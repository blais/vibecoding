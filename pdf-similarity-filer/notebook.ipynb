{
 "cells": [
  {
   "cell_type": "code",
   "execution_count": 1,
   "id": "56b9c00f-99de-4304-b4d7-bd6ad79fff89",
   "metadata": {},
   "outputs": [],
   "source": [
    "import json\n",
    "\n",
    "import numpy as np\n",
    "import torch\n",
    "import torch.nn as nn\n",
    "import torch.optim as optim\n",
    "from sklearn.model_selection import train_test_split\n",
    "from sklearn.preprocessing import LabelEncoder\n",
    "from torch.utils.data import DataLoader, Dataset"
   ]
  },
  {
   "cell_type": "code",
   "execution_count": 3,
   "id": "c2803002-6e8b-4046-b31e-9a833d881717",
   "metadata": {},
   "outputs": [],
   "source": [
    "# Custom dataset class for our JSON data\n",
    "class EmbeddingDataset(Dataset):\n",
    "    def __init__(self, data, label_encoder=None, train=True):\n",
    "        \"\"\"\n",
    "        Initialize the dataset with our JSON records.\n",
    "\n",
    "        Args:\n",
    "            data: List of dictionaries containing our records\n",
    "            label_encoder: Optional pre-fit LabelEncoder for file_paths\n",
    "            train: Whether this is training data (to fit encoder) or not\n",
    "        \"\"\"\n",
    "        self.embeddings = []\n",
    "        self.file_paths = []\n",
    "\n",
    "        # Extract embeddings and file_paths from our data\n",
    "        for item in data:\n",
    "            self.embeddings.append(item[\"embedding\"])\n",
    "            self.file_paths.append(item[\"file_path\"])\n",
    "\n",
    "        # Convert to numpy arrays for easier processing\n",
    "        self.embeddings = np.array(self.embeddings, dtype=np.float32)\n",
    "\n",
    "        # Convert file_paths to numerical labels\n",
    "        if label_encoder is None:\n",
    "            self.label_encoder = LabelEncoder()\n",
    "            self.labels = self.label_encoder.fit_transform(self.file_paths)\n",
    "        else:\n",
    "            self.label_encoder = label_encoder\n",
    "            self.labels = self.label_encoder.transform(self.file_paths)\n",
    "\n",
    "        # Convert to PyTorch tensors\n",
    "        self.embeddings = torch.FloatTensor(self.embeddings)\n",
    "        self.labels = torch.LongTensor(self.labels)\n",
    "\n",
    "    def __len__(self):\n",
    "        \"\"\"Return the number of examples in the dataset\"\"\"\n",
    "        return len(self.embeddings)\n",
    "\n",
    "    def __getitem__(self, idx):\n",
    "        \"\"\"Return a single example from the dataset\"\"\"\n",
    "        return {\"embedding\": self.embeddings[idx], \"label\": self.labels[idx]}\n",
    "\n",
    "    def num_classes(self):\n",
    "        \"\"\"Return the number of unique classes\"\"\"\n",
    "        return len(self.label_encoder.classes_)\n",
    "\n",
    "    def get_label_encoder(self):\n",
    "        \"\"\"Return the label encoder for decoding predictions\"\"\"\n",
    "        return self.label_encoder"
   ]
  },
  {
   "cell_type": "code",
   "execution_count": null,
   "id": "c5f2caa3-5816-48ba-bf50-2258083ebca8",
   "metadata": {},
   "outputs": [],
   "source": [
    "# Load data from JSON file\n",
    "# json_file_path = \"/home/blais/q/office/documents/.train.json\"\n",
    "json_file_path = \"/tmp/train.json\"\n",
    "with open(json_file_path, \"r\") as f:\n",
    "    data = json.load(f)\n",
    "\n",
    "len(data)"
   ]
  },
  {
   "cell_type": "code",
   "execution_count": 11,
   "id": "4c4904cc-8367-4178-b5dc-0fd996212f31",
   "metadata": {},
   "outputs": [
    {
     "ename": "ValueError",
     "evalue": "setting an array element with a sequence. The requested array has an inhomogeneous shape after 1 dimensions. The detected shape was (10,) + inhomogeneous part.",
     "output_type": "error",
     "traceback": [
      "\u001b[31m---------------------------------------------------------------------------\u001b[39m",
      "\u001b[31mValueError\u001b[39m                                Traceback (most recent call last)",
      "\u001b[36mCell\u001b[39m\u001b[36m \u001b[39m\u001b[32mIn[11]\u001b[39m\u001b[32m, line 1\u001b[39m\n\u001b[32m----> \u001b[39m\u001b[32m1\u001b[39m train_dataset = \u001b[43mEmbeddingDataset\u001b[49m\u001b[43m(\u001b[49m\u001b[43mdata\u001b[49m\u001b[43m)\u001b[49m\n\u001b[32m      2\u001b[39m \u001b[38;5;28mprint\u001b[39m(\u001b[38;5;28mlen\u001b[39m(train_dataset))\n",
      "\u001b[36mCell\u001b[39m\u001b[36m \u001b[39m\u001b[32mIn[3]\u001b[39m\u001b[32m, line 21\u001b[39m, in \u001b[36mEmbeddingDataset.__init__\u001b[39m\u001b[34m(self, data, label_encoder, train)\u001b[39m\n\u001b[32m     18\u001b[39m     \u001b[38;5;28mself\u001b[39m.file_paths.append(item[\u001b[33m'\u001b[39m\u001b[33mfile_path\u001b[39m\u001b[33m'\u001b[39m])\n\u001b[32m     20\u001b[39m \u001b[38;5;66;03m# Convert to numpy arrays for easier processing\u001b[39;00m\n\u001b[32m---> \u001b[39m\u001b[32m21\u001b[39m \u001b[38;5;28mself\u001b[39m.embeddings = \u001b[43mnp\u001b[49m\u001b[43m.\u001b[49m\u001b[43marray\u001b[49m\u001b[43m(\u001b[49m\u001b[38;5;28;43mself\u001b[39;49m\u001b[43m.\u001b[49m\u001b[43membeddings\u001b[49m\u001b[43m,\u001b[49m\u001b[43m \u001b[49m\u001b[43mdtype\u001b[49m\u001b[43m=\u001b[49m\u001b[43mnp\u001b[49m\u001b[43m.\u001b[49m\u001b[43mfloat32\u001b[49m\u001b[43m)\u001b[49m\n\u001b[32m     23\u001b[39m \u001b[38;5;66;03m# Convert file_paths to numerical labels\u001b[39;00m\n\u001b[32m     24\u001b[39m \u001b[38;5;28;01mif\u001b[39;00m label_encoder \u001b[38;5;129;01mis\u001b[39;00m \u001b[38;5;28;01mNone\u001b[39;00m:\n",
      "\u001b[31mValueError\u001b[39m: setting an array element with a sequence. The requested array has an inhomogeneous shape after 1 dimensions. The detected shape was (10,) + inhomogeneous part."
     ]
    }
   ],
   "source": [
    "train_dataset = EmbeddingDataset(data)\n",
    "print(len(train_dataset))"
   ]
  },
  {
   "cell_type": "code",
   "execution_count": null,
   "id": "5c160b0d-61d9-4830-a30d-4f77cb813b32",
   "metadata": {},
   "outputs": [],
   "source": []
  },
  {
   "cell_type": "code",
   "execution_count": null,
   "id": "938376f8-0094-45a3-b982-de43e366c407",
   "metadata": {},
   "outputs": [],
   "source": [
    "# Neural network for classification\n",
    "class EmbeddingClassifier(nn.Module):\n",
    "    def __init__(self, embedding_dim, hidden_dim, num_classes, dropout_rate=0.3):\n",
    "        \"\"\"\n",
    "        Initialize the classifier neural network.\n",
    "\n",
    "        Args:\n",
    "            embedding_dim: Dimension of the embedding vectors\n",
    "            hidden_dim: Dimension of the hidden layer\n",
    "            num_classes: Number of classes to predict\n",
    "            dropout_rate: Dropout probability\n",
    "        \"\"\"\n",
    "        super(EmbeddingClassifier, self).__init__()\n",
    "\n",
    "        self.model = nn.Sequential(\n",
    "            nn.Linear(embedding_dim, hidden_dim),\n",
    "            nn.ReLU(),\n",
    "            nn.Dropout(dropout_rate),\n",
    "            nn.Linear(hidden_dim, hidden_dim // 2),\n",
    "            nn.ReLU(),\n",
    "            nn.Dropout(dropout_rate),\n",
    "            nn.Linear(hidden_dim // 2, num_classes),\n",
    "        )\n",
    "\n",
    "    def forward(self, x):\n",
    "        \"\"\"Forward pass through the model\"\"\"\n",
    "        return self.model(x)"
   ]
  },
  {
   "cell_type": "code",
   "execution_count": null,
   "id": "8aaaa1bc-cd2e-4047-babf-36d797215684",
   "metadata": {},
   "outputs": [],
   "source": [
    "def train_model(\n",
    "    model, train_loader, val_loader, criterion, optimizer, device, num_epochs=10\n",
    "):\n",
    "    \"\"\"\n",
    "    Train the neural network model.\n",
    "\n",
    "    Args:\n",
    "        model: The neural network model\n",
    "        train_loader: DataLoader for training data\n",
    "        val_loader: DataLoader for validation data\n",
    "        criterion: Loss function\n",
    "        optimizer: Optimization algorithm\n",
    "        device: Device to run training on (CPU/GPU)\n",
    "        num_epochs: Number of training epochs\n",
    "\n",
    "    Returns:\n",
    "        Trained model\n",
    "    \"\"\"\n",
    "    model = model.to(device)\n",
    "    for epoch in range(num_epochs):\n",
    "        # Training phase\n",
    "        model.train()\n",
    "        train_loss = 0.0\n",
    "        train_correct = 0\n",
    "\n",
    "        for batch in train_loader:\n",
    "            embeddings = batch[\"embedding\"].to(device)\n",
    "            labels = batch[\"label\"].to(device)\n",
    "\n",
    "            # Zero gradients\n",
    "            optimizer.zero_grad()\n",
    "\n",
    "            # Forward pass\n",
    "            outputs = model(embeddings)\n",
    "            loss = criterion(outputs, labels)\n",
    "\n",
    "            # Backward pass and optimize\n",
    "            loss.backward()\n",
    "            optimizer.step()\n",
    "\n",
    "            # Statistics\n",
    "            train_loss += loss.item() * embeddings.size(0)\n",
    "            _, preds = torch.max(outputs, 1)\n",
    "            train_correct += torch.sum(preds == labels).item()\n",
    "\n",
    "        train_loss = train_loss / len(train_loader.dataset)\n",
    "        train_acc = train_correct / len(train_loader.dataset)\n",
    "\n",
    "        # Validation phase\n",
    "        model.eval()\n",
    "        val_loss = 0.0\n",
    "        val_correct = 0\n",
    "\n",
    "        with torch.no_grad():\n",
    "            for batch in val_loader:\n",
    "                embeddings = batch[\"embedding\"].to(device)\n",
    "                labels = batch[\"label\"].to(device)\n",
    "\n",
    "                outputs = model(embeddings)\n",
    "                loss = criterion(outputs, labels)\n",
    "\n",
    "                val_loss += loss.item() * embeddings.size(0)\n",
    "                _, preds = torch.max(outputs, 1)\n",
    "                val_correct += torch.sum(preds == labels).item()\n",
    "\n",
    "        val_loss = val_loss / len(val_loader.dataset)\n",
    "        val_acc = val_correct / len(val_loader.dataset)\n",
    "\n",
    "        print(f\"Epoch {epoch + 1}/{num_epochs}:\")\n",
    "        print(f\"Train Loss: {train_loss:.4f}, Train Acc: {train_acc:.4f}\")\n",
    "        print(f\"Val Loss: {val_loss:.4f}, Val Acc: {val_acc:.4f}\")\n",
    "\n",
    "    return model"
   ]
  },
  {
   "cell_type": "code",
   "execution_count": null,
   "id": "a4d817fa-3281-407c-8d45-f15abdb1d019",
   "metadata": {},
   "outputs": [
    {
     "data": {
      "text/plain": [
       "_StoreAction(option_strings=[], dest='json_file', nargs=None, const=None, default=None, type=<class 'str'>, choices=None, required=True, help='Path to the JSON file with embedding data', metavar=None)"
      ]
     },
     "execution_count": 2,
     "metadata": {},
     "output_type": "execute_result"
    },
    {
     "data": {
      "text/plain": [
       "_StoreAction(option_strings=['--batch_size'], dest='batch_size', nargs=None, const=None, default=32, type=<class 'int'>, choices=None, required=False, help='Batch size for training', metavar=None)"
      ]
     },
     "execution_count": 2,
     "metadata": {},
     "output_type": "execute_result"
    },
    {
     "data": {
      "text/plain": [
       "_StoreAction(option_strings=['--hidden_dim'], dest='hidden_dim', nargs=None, const=None, default=128, type=<class 'int'>, choices=None, required=False, help='Hidden dimension size', metavar=None)"
      ]
     },
     "execution_count": 2,
     "metadata": {},
     "output_type": "execute_result"
    },
    {
     "data": {
      "text/plain": [
       "_StoreAction(option_strings=['--lr'], dest='lr', nargs=None, const=None, default=0.001, type=<class 'float'>, choices=None, required=False, help='Learning rate', metavar=None)"
      ]
     },
     "execution_count": 2,
     "metadata": {},
     "output_type": "execute_result"
    },
    {
     "data": {
      "text/plain": [
       "_StoreAction(option_strings=['--epochs'], dest='epochs', nargs=None, const=None, default=10, type=<class 'int'>, choices=None, required=False, help='Number of training epochs', metavar=None)"
      ]
     },
     "execution_count": 2,
     "metadata": {},
     "output_type": "execute_result"
    },
    {
     "name": "stderr",
     "output_type": "stream",
     "text": [
      "usage: ipykernel_launcher.py [-h] [--batch_size BATCH_SIZE]\n",
      "                             [--hidden_dim HIDDEN_DIM] [--lr LR]\n",
      "                             [--epochs EPOCHS]\n",
      "                             json_file\n",
      "ipykernel_launcher.py: error: unrecognized arguments: -f\n"
     ]
    },
    {
     "ename": "SystemExit",
     "evalue": "2",
     "output_type": "error",
     "traceback": [
      "An exception has occurred, use %tb to see the full traceback.\n",
      "\u001b[31mSystemExit\u001b[39m\u001b[31m:\u001b[39m 2\n"
     ]
    },
    {
     "name": "stderr",
     "output_type": "stream",
     "text": [
      "/home/blais/p/vibecoding/pdf-similarity-filer/.venv/lib/python3.12/site-packages/IPython/core/interactiveshell.py:3557: UserWarning: To exit: use 'exit', 'quit', or Ctrl-D.\n",
      "  warn(\"To exit: use 'exit', 'quit', or Ctrl-D.\", stacklevel=1)\n"
     ]
    }
   ],
   "source": [
    "def main(\n",
    "    json_file_path, batch_size=32, hidden_dim=128, learning_rate=0.001, num_epochs=10\n",
    "):\n",
    "    \"\"\"\n",
    "    Main function to run the entire training pipeline.\n",
    "\n",
    "    Args:\n",
    "        json_file_path: Path to the JSON file with our data\n",
    "        batch_size: Batch size for training\n",
    "        hidden_dim: Hidden dimension for the neural network\n",
    "        learning_rate: Learning rate for optimization\n",
    "        num_epochs: Number of training epochs\n",
    "    \"\"\"\n",
    "    # Load data from JSON file\n",
    "    with open(json_file_path, \"r\") as f:\n",
    "        data = json.load(f)\n",
    "\n",
    "    # Split into train and validation sets\n",
    "    train_data, val_data = train_test_split(data, test_size=0.2, random_state=42)\n",
    "\n",
    "    # Create datasets\n",
    "    train_dataset = EmbeddingDataset(train_data)\n",
    "    label_encoder = train_dataset.get_label_encoder()\n",
    "    val_dataset = EmbeddingDataset(val_data, label_encoder=label_encoder, train=False)\n",
    "\n",
    "    # Create data loaders\n",
    "    train_loader = DataLoader(train_dataset, batch_size=batch_size, shuffle=True)\n",
    "    val_loader = DataLoader(val_dataset, batch_size=batch_size)\n",
    "\n",
    "    # Determine embedding dimension from the data\n",
    "    embedding_dim = train_dataset.embeddings.shape[1]\n",
    "    num_classes = train_dataset.num_classes()\n",
    "\n",
    "    print(f\"Embedding dimension: {embedding_dim}\")\n",
    "    print(f\"Number of classes: {num_classes}\")\n",
    "\n",
    "    # Initialize model, loss function, and optimizer\n",
    "    model = EmbeddingClassifier(embedding_dim, hidden_dim, num_classes)\n",
    "    criterion = nn.CrossEntropyLoss()\n",
    "    optimizer = optim.Adam(model.parameters(), lr=learning_rate)\n",
    "\n",
    "    # Determine device\n",
    "    device = torch.device(\"cuda\" if torch.cuda.is_available() else \"cpu\")\n",
    "    print(f\"Using device: {device}\")\n",
    "\n",
    "    # Train the model\n",
    "    trained_model = train_model(\n",
    "        model, train_loader, val_loader, criterion, optimizer, device, num_epochs\n",
    "    )\n",
    "\n",
    "    # Save the model\n",
    "    torch.save(\n",
    "        {\n",
    "            \"model_state_dict\": trained_model.state_dict(),\n",
    "            \"label_encoder\": label_encoder,\n",
    "            \"embedding_dim\": embedding_dim,\n",
    "            \"hidden_dim\": hidden_dim,\n",
    "            \"num_classes\": num_classes,\n",
    "        },\n",
    "        \"embedding_classifier.pt\",\n",
    "    )\n",
    "\n",
    "    print(\"Model training complete and saved to 'embedding_classifier.pt'\")\n",
    "\n",
    "\n",
    "if __name__ == \"__main__\":\n",
    "    import argparse\n",
    "\n",
    "    parser = argparse.ArgumentParser(description=\"Train a classifier on embedding data\")\n",
    "    parser.add_argument(\n",
    "        \"json_file\", type=str, help=\"Path to the JSON file with embedding data\"\n",
    "    )\n",
    "    parser.add_argument(\n",
    "        \"--batch_size\", type=int, default=32, help=\"Batch size for training\"\n",
    "    )\n",
    "    parser.add_argument(\n",
    "        \"--hidden_dim\", type=int, default=128, help=\"Hidden dimension size\"\n",
    "    )\n",
    "    parser.add_argument(\"--lr\", type=float, default=0.001, help=\"Learning rate\")\n",
    "    parser.add_argument(\n",
    "        \"--epochs\", type=int, default=10, help=\"Number of training epochs\"\n",
    "    )\n",
    "\n",
    "    args = parser.parse_args()\n",
    "\n",
    "    main(\n",
    "        args.json_file,\n",
    "        batch_size=args.batch_size,\n",
    "        hidden_dim=args.hidden_dim,\n",
    "        learning_rate=args.lr,\n",
    "        num_epochs=args.epochs,\n",
    "    )"
   ]
  }
 ],
 "metadata": {
  "kernelspec": {
   "display_name": "Python 3 (ipykernel)",
   "language": "python",
   "name": "python3"
  },
  "language_info": {
   "codemirror_mode": {
    "name": "ipython",
    "version": 3
   },
   "file_extension": ".py",
   "mimetype": "text/x-python",
   "name": "python",
   "nbconvert_exporter": "python",
   "pygments_lexer": "ipython3",
   "version": "3.12.9"
  }
 },
 "nbformat": 4,
 "nbformat_minor": 5
}
